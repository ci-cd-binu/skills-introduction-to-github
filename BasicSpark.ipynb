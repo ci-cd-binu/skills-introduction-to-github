{
  "nbformat": 4,
  "nbformat_minor": 0,
  "metadata": {
    "colab": {
      "provenance": [],
      "mount_file_id": "1piZpmVW4VU_9QRGQ76-Um9oBD9HG7N4g",
      "authorship_tag": "ABX9TyOEip37Zt8iGjbiDZE7Mlfw",
      "include_colab_link": true
    },
    "kernelspec": {
      "name": "python3",
      "display_name": "Python 3"
    },
    "language_info": {
      "name": "python"
    }
  },
  "cells": [
    {
      "cell_type": "markdown",
      "metadata": {
        "id": "view-in-github",
        "colab_type": "text"
      },
      "source": [
        "<a href=\"https://colab.research.google.com/github/ci-cd-binu/skills-introduction-to-github/blob/main/BasicSpark.ipynb\" target=\"_parent\"><img src=\"https://colab.research.google.com/assets/colab-badge.svg\" alt=\"Open In Colab\"/></a>"
      ]
    },
    {
      "cell_type": "code",
      "source": [
        "!pip install pyspark"
      ],
      "metadata": {
        "colab": {
          "base_uri": "https://localhost:8080/"
        },
        "id": "Sq90ZkvXo3u8",
        "outputId": "fe9eba4e-04b5-43a6-e9c6-7bd91df7577c"
      },
      "execution_count": 3,
      "outputs": [
        {
          "output_type": "stream",
          "name": "stdout",
          "text": [
            "Collecting pyspark\n",
            "  Downloading pyspark-3.5.0.tar.gz (316.9 MB)\n",
            "\u001b[2K     \u001b[90m━━━━━━━━━━━━━━━━━━━━━━━━━━━━━━━━━━━━━━━━\u001b[0m \u001b[32m316.9/316.9 MB\u001b[0m \u001b[31m4.5 MB/s\u001b[0m eta \u001b[36m0:00:00\u001b[0m\n",
            "\u001b[?25h  Preparing metadata (setup.py) ... \u001b[?25l\u001b[?25hdone\n",
            "Requirement already satisfied: py4j==0.10.9.7 in /usr/local/lib/python3.10/dist-packages (from pyspark) (0.10.9.7)\n",
            "Building wheels for collected packages: pyspark\n",
            "  Building wheel for pyspark (setup.py) ... \u001b[?25l\u001b[?25hdone\n",
            "  Created wheel for pyspark: filename=pyspark-3.5.0-py2.py3-none-any.whl size=317425344 sha256=b5b9c2706043bcfe7ea7d1252ef72f3424c4f561e8deb9a7149ddbb692274c1f\n",
            "  Stored in directory: /root/.cache/pip/wheels/41/4e/10/c2cf2467f71c678cfc8a6b9ac9241e5e44a01940da8fbb17fc\n",
            "Successfully built pyspark\n",
            "Installing collected packages: pyspark\n",
            "Successfully installed pyspark-3.5.0\n"
          ]
        }
      ]
    },
    {
      "cell_type": "code",
      "execution_count": 4,
      "metadata": {
        "id": "r2l1yRFenwUe"
      },
      "outputs": [],
      "source": [
        "from pyspark.sql import SparkSession\n",
        "\n",
        "spark = SparkSession.builder.appName(\"InsuranceML\").getOrCreate()\n",
        "data = spark.read.csv(\"/content/drive/MyDrive/datasets/insurance_data.csv\", header=True, inferSchema=True)\n"
      ]
    },
    {
      "cell_type": "code",
      "source": [
        "data.show(2)"
      ],
      "metadata": {
        "colab": {
          "base_uri": "https://localhost:8080/"
        },
        "id": "uwRMifaeqCHL",
        "outputId": "5815bee3-d092-4c67-dd85-f2ec79a9faeb"
      },
      "execution_count": 5,
      "outputs": [
        {
          "output_type": "stream",
          "name": "stdout",
          "text": [
            "+---------+---+------+------------+--------------+----------------------+---------------+\n",
            "|policy_id|age|gender|vehicle_type|policy_premium|no_of_claims_last_year|claim_next_year|\n",
            "+---------+---+------+------------+--------------+----------------------+---------------+\n",
            "|        1| 56|  Male|       Truck|           633|                     1|              0|\n",
            "|        2| 69|  Male|       Truck|          3638|                     1|              0|\n",
            "+---------+---+------+------------+--------------+----------------------+---------------+\n",
            "only showing top 2 rows\n",
            "\n"
          ]
        }
      ]
    },
    {
      "cell_type": "code",
      "source": [
        "data.summary().show()"
      ],
      "metadata": {
        "colab": {
          "base_uri": "https://localhost:8080/"
        },
        "id": "Zv2HFtgAqF86",
        "outputId": "f4e2086d-ac9d-477a-e481-28a9ffefed44"
      },
      "execution_count": 9,
      "outputs": [
        {
          "output_type": "stream",
          "name": "stdout",
          "text": [
            "+-------+-----------------+-----------------+------+------------+------------------+----------------------+-------------------+\n",
            "|summary|        policy_id|              age|gender|vehicle_type|    policy_premium|no_of_claims_last_year|    claim_next_year|\n",
            "+-------+-----------------+-----------------+------+------------+------------------+----------------------+-------------------+\n",
            "|  count|             1000|             1000|  1000|        1000|              1000|                  1000|               1000|\n",
            "|   mean|            500.5|            50.38|  NULL|        NULL|          2731.883|                 2.413|               0.18|\n",
            "| stddev|288.8194360957494|18.37866631111668|  NULL|        NULL|1267.1110716029502|    1.7173760160140772|0.38437969216355306|\n",
            "|    min|                1|               18|Female|        Bike|               506|                     0|                  0|\n",
            "|    25%|              250|               35|  NULL|        NULL|              1633|                     1|                  0|\n",
            "|    50%|              500|               50|  NULL|        NULL|              2711|                     2|                  0|\n",
            "|    75%|              750|               66|  NULL|        NULL|              3836|                     4|                  0|\n",
            "|    max|             1000|               80|  Male|       Truck|              4999|                     5|                  1|\n",
            "+-------+-----------------+-----------------+------+------------+------------------+----------------------+-------------------+\n",
            "\n"
          ]
        }
      ]
    },
    {
      "cell_type": "markdown",
      "source": [
        "**Feature Engineering:**\n",
        "Convert categorical columns to numeric using One-Hot Encoding.\n",
        "Create a new feature: is_high_risk which is 1 if no_of_claims_last_year > 3 else 0."
      ],
      "metadata": {
        "id": "wmwfkcz_pck5"
      }
    },
    {
      "cell_type": "code",
      "source": [
        "from pyspark.ml import Pipeline\n",
        "from pyspark.ml.feature import OneHotEncoder, StringIndexer, VectorAssembler\n",
        "\n",
        "# Convert gender and vehicle_type to numeric\n",
        "gender_indexer = StringIndexer(inputCol=\"gender\", outputCol=\"genderIndex\")\n",
        "vehicle_indexer = StringIndexer(inputCol=\"vehicle_type\", outputCol=\"vehicleIndex\")\n",
        "\n",
        "encoder = OneHotEncoder(inputCols=[\"genderIndex\", \"vehicleIndex\"],\n",
        "                        outputCols=[\"genderVec\", \"vehicleVec\"])\n",
        "\n",
        "# Create 'is_high_risk' column\n",
        "data = data.withColumn(\"is_high_risk\", (data[\"no_of_claims_last_year\"] > 3).cast(\"int\"))\n",
        "\n",
        "assembler = VectorAssembler(inputCols=[\"age\", \"policy_premium\", \"no_of_claims_last_year\", \"genderVec\", \"vehicleVec\", \"is_high_risk\"],\n",
        "                            outputCol=\"features\")\n",
        "\n",
        "pipeline = Pipeline(stages=[gender_indexer, vehicle_indexer, encoder, assembler])\n",
        "data = pipeline.fit(data).transform(data)\n"
      ],
      "metadata": {
        "id": "DjCstSHhphW1"
      },
      "execution_count": 11,
      "outputs": []
    },
    {
      "cell_type": "markdown",
      "source": [
        "**Modeling:**\n",
        "Train a Logistic Regression model."
      ],
      "metadata": {
        "id": "C2OMmBj5q8Vl"
      }
    },
    {
      "cell_type": "code",
      "source": [
        "from pyspark.ml.classification import LogisticRegression\n",
        "from pyspark.ml.evaluation import BinaryClassificationEvaluator\n",
        "from pyspark.ml.tuning import TrainValidationSplit, ParamGridBuilder\n",
        "\n",
        "(train_data, test_data) = data.randomSplit([0.8, 0.2])\n",
        "\n",
        "lr = LogisticRegression(labelCol=\"claim_next_year\", featuresCol=\"features\")\n",
        "\n",
        "paramGrid = ParamGridBuilder() \\\n",
        "    .addGrid(lr.regParam, [0.01, 0.1, 1.0]) \\\n",
        "    .addGrid(lr.elasticNetParam, [0.0, 0.5, 1.0]) \\\n",
        "    .build()\n",
        "\n",
        "tvs = TrainValidationSplit(estimator=lr,\n",
        "                           estimatorParamMaps=paramGrid,\n",
        "                           evaluator=BinaryClassificationEvaluator(labelCol=\"claim_next_year\"),\n",
        "                           trainRatio=0.8)\n",
        "\n",
        "model = tvs.fit(train_data)\n"
      ],
      "metadata": {
        "id": "MUASpATIqZMN"
      },
      "execution_count": 12,
      "outputs": []
    },
    {
      "cell_type": "markdown",
      "source": [
        "Inference:\n",
        "Predict on the test set and evaluate the model's performance."
      ],
      "metadata": {
        "id": "co9RnMIKrmRA"
      }
    },
    {
      "cell_type": "code",
      "source": [
        "predictions = model.transform(test_data)\n",
        "\n",
        "evaluator = BinaryClassificationEvaluator(labelCol=\"claim_next_year\")\n",
        "roc_auc = evaluator.evaluate(predictions)\n",
        "print(f\"ROC-AUC: {roc_auc}\")\n"
      ],
      "metadata": {
        "colab": {
          "base_uri": "https://localhost:8080/"
        },
        "id": "A4oCgoaArkxH",
        "outputId": "704311ba-0136-4c8d-c538-ba7a3c5243b2"
      },
      "execution_count": 13,
      "outputs": [
        {
          "output_type": "stream",
          "name": "stdout",
          "text": [
            "ROC-AUC: 0.650188323917137\n"
          ]
        }
      ]
    },
    {
      "cell_type": "code",
      "source": [
        "predictions.show(5)"
      ],
      "metadata": {
        "colab": {
          "base_uri": "https://localhost:8080/"
        },
        "id": "1QFV1734rzKq",
        "outputId": "bbda0e8b-2832-4807-99cf-35e9efb1ed60"
      },
      "execution_count": 17,
      "outputs": [
        {
          "output_type": "stream",
          "name": "stdout",
          "text": [
            "+---------+---+------+------------+--------------+----------------------+---------------+------------+-----------+------------+-------------+-------------+--------------------+--------------------+--------------------+----------+\n",
            "|policy_id|age|gender|vehicle_type|policy_premium|no_of_claims_last_year|claim_next_year|is_high_risk|genderIndex|vehicleIndex|    genderVec|   vehicleVec|            features|       rawPrediction|         probability|prediction|\n",
            "+---------+---+------+------------+--------------+----------------------+---------------+------------+-----------+------------+-------------+-------------+--------------------+--------------------+--------------------+----------+\n",
            "|        1| 56|  Male|       Truck|           633|                     1|              0|           0|        0.0|         2.0|(1,[0],[1.0])|    (2,[],[])|[56.0,633.0,1.0,1...|[1.63650189145399...|[0.83705838701544...|       0.0|\n",
            "|        3| 46|Female|        Bike|          4419|                     1|              0|           0|        1.0|         0.0|    (1,[],[])|(2,[0],[1.0])|[46.0,4419.0,1.0,...|[2.05495380161096...|[0.88644721660124...|       0.0|\n",
            "|        4| 32|Female|         Car|           572|                     2|              1|           0|        1.0|         1.0|    (1,[],[])|(2,[1],[1.0])|[32.0,572.0,2.0,0...|[1.58492572315340...|[0.82990098970552...|       0.0|\n",
            "|       23| 19|  Male|        Bike|          4723|                     4|              0|           1|        0.0|         0.0|(1,[0],[1.0])|(2,[0],[1.0])|[19.0,4723.0,4.0,...|[1.67520989573473...|[0.84226920000942...|       0.0|\n",
            "|       25| 61|Female|       Truck|          4687|                     2|              0|           0|        1.0|         2.0|    (1,[],[])|    (2,[],[])|(7,[0,1,2],[61.0,...|[1.77273015970718...|[0.85479686461028...|       0.0|\n",
            "+---------+---+------+------------+--------------+----------------------+---------------+------------+-----------+------------+-------------+-------------+--------------------+--------------------+--------------------+----------+\n",
            "only showing top 5 rows\n",
            "\n"
          ]
        }
      ]
    },
    {
      "cell_type": "code",
      "source": [
        "# Append the prediction column to the test_data\n",
        "output_data = test_data.join(predictions.select(\"policy_id\", \"prediction\"), on=\"policy_id\", how=\"left\")\n",
        "output_data.show(4)\n",
        "# Save the resulting DataFrame to CSV\n",
        "#output_data.write.csv(\"path_to_save_predictions.csv\", header=True)\n"
      ],
      "metadata": {
        "colab": {
          "base_uri": "https://localhost:8080/"
        },
        "id": "GwedMdsIsoub",
        "outputId": "b80fa522-2bb0-4a29-b324-a00ac0cfb471"
      },
      "execution_count": 18,
      "outputs": [
        {
          "output_type": "stream",
          "name": "stdout",
          "text": [
            "+---------+---+------+------------+--------------+----------------------+---------------+------------+-----------+------------+-------------+-------------+--------------------+----------+\n",
            "|policy_id|age|gender|vehicle_type|policy_premium|no_of_claims_last_year|claim_next_year|is_high_risk|genderIndex|vehicleIndex|    genderVec|   vehicleVec|            features|prediction|\n",
            "+---------+---+------+------------+--------------+----------------------+---------------+------------+-----------+------------+-------------+-------------+--------------------+----------+\n",
            "|        1| 56|  Male|       Truck|           633|                     1|              0|           0|        0.0|         2.0|(1,[0],[1.0])|    (2,[],[])|[56.0,633.0,1.0,1...|       0.0|\n",
            "|        3| 46|Female|        Bike|          4419|                     1|              0|           0|        1.0|         0.0|    (1,[],[])|(2,[0],[1.0])|[46.0,4419.0,1.0,...|       0.0|\n",
            "|        4| 32|Female|         Car|           572|                     2|              1|           0|        1.0|         1.0|    (1,[],[])|(2,[1],[1.0])|[32.0,572.0,2.0,0...|       0.0|\n",
            "|       23| 19|  Male|        Bike|          4723|                     4|              0|           1|        0.0|         0.0|(1,[0],[1.0])|(2,[0],[1.0])|[19.0,4723.0,4.0,...|       0.0|\n",
            "+---------+---+------+------------+--------------+----------------------+---------------+------------+-----------+------------+-------------+-------------+--------------------+----------+\n",
            "only showing top 4 rows\n",
            "\n"
          ]
        }
      ]
    },
    {
      "cell_type": "code",
      "source": [
        "# List of original columns\n",
        "original_columns = ['policy_id', 'age', 'gender', 'vehicle_type', 'policy_premium', 'no_of_claims_last_year', 'claim_next_year', 'prediction']\n",
        "\n",
        "# Select only the original columns\n",
        "output_data = predictions.select(*original_columns)\n",
        "output_data.show(4)\n",
        "# Save the resulting DataFrame to CSV\n",
        "#output_data.write.csv(\"path_to_save_predictions.csv\", header=True)\n"
      ],
      "metadata": {
        "colab": {
          "base_uri": "https://localhost:8080/"
        },
        "id": "n40S1Z1hs--T",
        "outputId": "f2e19452-cf29-412c-bae8-b37a4c7ae7a9"
      },
      "execution_count": 19,
      "outputs": [
        {
          "output_type": "stream",
          "name": "stdout",
          "text": [
            "+---------+---+------+------------+--------------+----------------------+---------------+----------+\n",
            "|policy_id|age|gender|vehicle_type|policy_premium|no_of_claims_last_year|claim_next_year|prediction|\n",
            "+---------+---+------+------------+--------------+----------------------+---------------+----------+\n",
            "|        1| 56|  Male|       Truck|           633|                     1|              0|       0.0|\n",
            "|        3| 46|Female|        Bike|          4419|                     1|              0|       0.0|\n",
            "|        4| 32|Female|         Car|           572|                     2|              1|       0.0|\n",
            "|       23| 19|  Male|        Bike|          4723|                     4|              0|       0.0|\n",
            "+---------+---+------+------------+--------------+----------------------+---------------+----------+\n",
            "only showing top 4 rows\n",
            "\n"
          ]
        }
      ]
    },
    {
      "cell_type": "code",
      "source": [
        "!pwd"
      ],
      "metadata": {
        "colab": {
          "base_uri": "https://localhost:8080/"
        },
        "id": "kqvOpR3Hn9aS",
        "outputId": "77f19b6f-02c6-40d0-b5e9-8d7e17b6cb93"
      },
      "execution_count": 1,
      "outputs": [
        {
          "output_type": "stream",
          "name": "stdout",
          "text": [
            "/content\n"
          ]
        }
      ]
    },
    {
      "cell_type": "code",
      "source": [],
      "metadata": {
        "id": "_OURsY7Zn-fc"
      },
      "execution_count": null,
      "outputs": []
    }
  ]
}